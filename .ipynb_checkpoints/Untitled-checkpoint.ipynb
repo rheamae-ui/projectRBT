{
 "cells": [
  {
   "cell_type": "code",
   "execution_count": 2,
   "metadata": {
    "scrolled": false
   },
   "outputs": [],
   "source": [
    "import cv2\n",
    "import numpy as np\n",
    "\n",
    "cap = cv2.VideoCapture(\"People.mp4\")\n",
    "\n",
    "if cap.isOpened():\n",
    "\n",
    "    ret,frame = cap.read()\n",
    "\n",
    "else:\n",
    "    ret =False\n",
    "\n",
    "ret,frame1 = cap.read()\n",
    "ret,frame2 = cap.read()\n",
    "\n",
    "while (True):\n",
    "    ret,frame = cap.read()\n",
    "      #VideoFileOutput.write(frame)\n",
    "    if ret: \n",
    "        ret,frame = cap.read()\n",
    "        d=cv2.absdiff(frame1,frame2)\n",
    "\n",
    "        grey=cv2.cvtColor(d,cv2.COLOR_BGR2GRAY)\n",
    "\n",
    "        ret,th=cv2.threshold(grey,25,255,cv2.THRESH_BINARY)\n",
    "        dilated=cv2.dilate(th,np.ones((2,2),np.uint8),iterations=25)\n",
    "        c,h=cv2.findContours(dilated,cv2.RETR_TREE,cv2.CHAIN_APPROX_SIMPLE)\n",
    "\n",
    "        cv2.drawContours(frame1,c,-1,(0,255,0),2)\n",
    "\n",
    "    #cv2.imshow(\"win1\",frame2)\n",
    "        cv2.imshow(\"Counter\",frame1)\n",
    "\n",
    "\n",
    "        font = cv2.FONT_HERSHEY_SIMPLEX \n",
    "        number_of_objects_in_image= len(c)\n",
    "    # Use putText() method for inserting text on video \n",
    "        cv2.putText(frame,'Number of People: '+str(number_of_objects_in_image),(50, 50), font, 1, (0, 255, 255), 2, cv2.LINE_4) \n",
    "        cv2.imshow(\"Live Feed\",frame)\n",
    "        key = cv2.waitKey(30) & 0xFF\n",
    "        if key == ord('q'):\n",
    "            break\n",
    "        if key == ord('p'):\n",
    "            cv2.waitKey(-1) #wait until any key is pressed\n",
    "    else: \n",
    "        break\n",
    "\n",
    "    frame1 = frame2\n",
    "    ret,frame2= cap.read()\n",
    "cv2.destroyAllWindows()\n",
    "cap.release()"
   ]
  }
 ],
 "metadata": {
  "kernelspec": {
   "display_name": "Python 3",
   "language": "python",
   "name": "python3"
  },
  "language_info": {
   "codemirror_mode": {
    "name": "ipython",
    "version": 3
   },
   "file_extension": ".py",
   "mimetype": "text/x-python",
   "name": "python",
   "nbconvert_exporter": "python",
   "pygments_lexer": "ipython3",
   "version": "3.8.3"
  }
 },
 "nbformat": 4,
 "nbformat_minor": 4
}
