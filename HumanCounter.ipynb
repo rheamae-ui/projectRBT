{
 "cells": [
  {
   "cell_type": "markdown",
   "metadata": {},
   "source": [
    "# Human Counter"
   ]
  },
  {
   "cell_type": "markdown",
   "metadata": {},
   "source": [
    "A human counter can be used for any general purpose. It can be implemented in a CCTV camera using a capture or a simple video. The motive for this project is to be used to ensure people follow general guidelines during covid19 as shops or malls have a certain capacity, a human counter will be used to count the amount of people in a room and tell whether the room is at full capacity. \n",
    "\n",
    "This project is done using the following: \n",
    "1. Implementing a frame using contours. This involves the following: \n",
    "Threshold\n",
    "Dilation \n",
    "Contour \n",
    "\n",
    "2. Counter \n",
    "Using an inbuilt function in python where it counts the whole number of contours or frame created. "
   ]
  },
  {
   "cell_type": "code",
   "execution_count": 1,
   "metadata": {
    "scrolled": false
   },
   "outputs": [],
   "source": [
    "#importing the necesarry libraries used for the project \n",
    "import cv2\n",
    "import numpy as np\n",
    "\n",
    "#capture the video file \"People.mp4\"\n",
    "cap = cv2.VideoCapture(\"People.mp4\")\n",
    "\n",
    "#Initialize the cap \n",
    "if cap.isOpened():\n",
    "#define ret and frame as cap.read()\n",
    "    ret,frame = cap.read()\n",
    "\n",
    "else: #if frame is not read in correctly, return a false for ret. \n",
    "    ret=False\n",
    "    \n",
    "#define cap.read() as ret,frame 1 and 2\n",
    "ret,frame1 = cap.read()\n",
    "ret,frame2 = cap.read()\n",
    "\n",
    "#capture frame by frame\n",
    "while (True):\n",
    "    ret,frame = cap.read()\n",
    "      #VideoFileOutput.write(frame)\n",
    "    \n",
    "    if ret: \n",
    "        \n",
    "        ret,frame = cap.read()\n",
    "        d=cv2.absdiff(frame1,frame2) #calculate the difference btween frame1 and frame 2\n",
    "        #This is used for motion capture - used to compare the current frame from the previous frame \n",
    "        grey=cv2.cvtColor(d,cv2.COLOR_BGR2GRAY) #convert original video to fray as threshold only takes in grey due to the\n",
    "        #pixel value. \n",
    "        ret,th=cv2.threshold(grey,25,255,cv2.THRESH_BINARY) #find the threshold.\n",
    "        #This is used to classify the pixel intensities in the greyscale image\n",
    "        dilated=cv2.dilate(th,np.ones((2,2),np.uint8),iterations=25)#Implement dilation \n",
    "        #Dilation is needed to remove noise and erosion. This is a method to remove white noise.  \n",
    "        c,h=cv2.findContours(dilated,cv2.RETR_TREE,cv2.CHAIN_APPROX_SIMPLE)#cUse contours\n",
    "        #contours is used for object detection. In this case, it is used to detect and recognise the people that are moving.\n",
    "\n",
    "        cv2.drawContours(frame1,c,-1,(0,255,0),2)#Draw all the contours detected in the image using the colour green. \n",
    "        #To draw all the contours the value (-1) is needed. \n",
    "\n",
    "        cv2.imshow(\"Counter\",frame1)#Show frame1 in which all contours are drawn into and call it counter. \n",
    "\n",
    "\n",
    "        font = cv2.FONT_HERSHEY_SIMPLEX #Font used for writing on video\n",
    "        number_of_people_in_video= len(c)#Counts the number of contours in each frame\n",
    "        # Use putText() method for inserting text on video \n",
    "        cv2.putText(frame,'Number of People: '+str(number_of_people_in_video),(50, 50), font, 1, (0, 255, 255), 2, cv2.LINE_4) \n",
    "        cv2.imshow(\"Live Feed\",frame)#Shows the CCTV type video with the no. of people on screen\n",
    "        key = cv2.waitKey(70) & 0xFF\n",
    "        if key == ord('q'):\n",
    "            break #Exit the video if 'q' is clicked\n",
    "        if key == ord('p'): #Pause the video if 'p' is clicked. Press any key to resume\n",
    "            cv2.waitKey(-1) #wait until any key is pressed\n",
    "    else: \n",
    "        break #Closes the video after running\n",
    "\n",
    "    frame1 = frame2\n",
    "    ret,frame2= cap.read()\n",
    "cv2.destroyAllWindows()\n",
    "cap.release()"
   ]
  },
  {
   "cell_type": "code",
   "execution_count": null,
   "metadata": {},
   "outputs": [],
   "source": []
  }
 ],
 "metadata": {
  "kernelspec": {
   "display_name": "Python 3",
   "language": "python",
   "name": "python3"
  },
  "language_info": {
   "codemirror_mode": {
    "name": "ipython",
    "version": 3
   },
   "file_extension": ".py",
   "mimetype": "text/x-python",
   "name": "python",
   "nbconvert_exporter": "python",
   "pygments_lexer": "ipython3",
   "version": "3.8.2"
  }
 },
 "nbformat": 4,
 "nbformat_minor": 4
}
